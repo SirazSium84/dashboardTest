{
 "cells": [
  {
   "cell_type": "code",
   "execution_count": 1,
   "id": "66ac9fb6-5a12-406f-9d4f-fa94386251fc",
   "metadata": {},
   "outputs": [],
   "source": [
    "import fitz\n",
    "import re\n",
    "import os\n",
    "import PyPDF2\n",
    "import pandas as pd\n",
    "from datetime import datetime\n",
    "from wordcloud import WordCloud\n",
    "import matplotlib.pyplot as plt\n",
    "#from textblob import TextBlob\n",
    "\n",
    "import plotly.graph_objects as go\n",
    "from plotly.subplots import make_subplots\n",
    "import plotly.express as px"
   ]
  },
  {
   "cell_type": "code",
   "execution_count": 2,
   "id": "41114a45-4222-483b-95ce-1e9a1e8eaf6b",
   "metadata": {},
   "outputs": [],
   "source": [
    "# Define paths\n",
    "input_folder = \"./php/casefiles/\"\n",
    "#output_folder = \"./bps/bps_redacted\""
   ]
  },
  {
   "cell_type": "code",
   "execution_count": 3,
   "id": "35e90ea2-1032-4948-a15e-52823c4f3c93",
   "metadata": {},
   "outputs": [],
   "source": [
    "data = []"
   ]
  },
  {
   "cell_type": "code",
   "execution_count": 4,
   "id": "849ec4d8-4326-4b30-a487-70115ba359d3",
   "metadata": {},
   "outputs": [],
   "source": [
    "emotion_keywords = {\n",
    "    \"Pain\": [\"pain\", \"pains\", \"painful\", \"hurt\", \"hurts\", \"hurting\", \"sore\", \"soreness\", \"ache\", \"discomfort\"],\n",
    "    \"Sad\": [\"sad\", \"sadder\", \"saddest\", \"downhearted\", \"heartbroken\", \"mournful\", \"grief\", \"sorrow\"],\n",
    "    \"Content\": [\"contentment\", \"content\", \"pleased\", \"satisfied\"],\n",
    "    \"Anger\": [\"anger\", \"angry\", \"rage\", \"enraged\", \"fury\", \"furious\",\"fuming\"],\n",
    "    \"Shame\": [\"shame\", \"ashamed\", \"guilt\", \"guilty\"],\n",
    "    \"Fear\": [\"fear\", \"fearful\", \"scared\", \"scary\", \"frightened\", \"terrified\"],\n",
    "    \"Joy\": [\"joy\", \"joyful\", \"happy\",\"cheerful\", \"joyous\"],\n",
    "    \"Anxiety\": [\"anxiety\", \"anxious\", \"nervous\", \"uneasy\", \"restless\", \"apprehensive\", \"worry\", \"stress\", \"tense\", \"worried\"],\n",
    "    \"Depressed\": [\"depressed\", \"depress\", \"depression\"],\n",
    "    \"Alone\": [\"alone\", \"lonely\", \"loneliness\", \"isolated\", \"abandoned\"]\n",
    "}"
   ]
  },
  {
   "cell_type": "code",
   "execution_count": 5,
   "id": "e72ca262-c3c7-4a21-8a12-7dee9a21a9d0",
   "metadata": {},
   "outputs": [],
   "source": [
    "supports_keywords = {\n",
    "    \"Sleep\": [\"sleep\",\"slept\"],\n",
    "    \"Nutrition\": [\"nutrition\"],\n",
    "    \"Exercise\": [\"exercise\",\"workout\",\"work out\"],\n",
    "    \"Fun\": [\"fun\"],\n",
    "    \"Connection\": [\"connection\"],\n",
    "    \"Warmth\": [\"warmth\"],\n",
    "    \"Water\": [\"water\"],\n",
    "    \"Love\": [\"love\"],\n",
    "    \"Therapy\": [\"therapy\"],\n",
    "}"
   ]
  },
  {
   "cell_type": "code",
   "execution_count": 6,
   "id": "5684606e-18f6-40c5-99c8-fd53fef37fd1",
   "metadata": {},
   "outputs": [],
   "source": [
    "skills_keywords = {\n",
    "    \"Mindfulness/Meditation\": [\"mindful\", \"mindfulness\", \"meditate\", \"meditation\"],\n",
    "    \"Distress Tolerance\": [\"distress\", \"tolerate\", \"tolerance\"],\n",
    "    \"Opposite Action\": [\"opposite action\", \"opposite\"],\n",
    "    \"Take My Meds\": [\"take my meds\", \"take meds\", \"take my med\", \"take med\"],\n",
    "    \"Ask For Help\": [\"ask for help\", \"ask help\",\"seek help\"],\n",
    "    \"Improve Moment\": [\"improve moment\", \"improveme the moment\"],\n",
    "    \"Parts Work\": [\"parts work\", \"part work\",\"parts works\", \"part works\"],\n",
    "    \"Play The Tape Thru\": [\"play the tape thru\", \"play tape thru\", \"play the tape through\", \"play tape through\"],\n",
    "    \"Values\": [\"value\",\"values\"],\n",
    "}\n"
   ]
  },
  {
   "cell_type": "code",
   "execution_count": 7,
   "id": "634bda62-a4d2-40bd-9639-dcb7d76c3d05",
   "metadata": {},
   "outputs": [],
   "source": [
    "def extract_cravings_rating(text):\n",
    "    \"\"\"Extracts the first cravings/impulse rating.\"\"\"\n",
    "    match = re.search(r'Craving[s]?/impulse.*?:\\s*(\\d{1,2})/10', text, re.IGNORECASE)\n",
    "    if match:\n",
    "        return int(match.group(1))  # Extract the first rating as an integer\n",
    "    return None"
   ]
  },
  {
   "cell_type": "code",
   "execution_count": 8,
   "id": "7cf3c6bc-bbb0-41d0-aaab-3186496edb69",
   "metadata": {},
   "outputs": [],
   "source": [
    "# Function to check if text contains any variation of each support and return matched words\n",
    "def check_supports(text):\n",
    "    support_found = {}\n",
    "    support_matched_words = []\n",
    "    \n",
    "    for suppport, words in supports_keywords.items():\n",
    "        found = [word for word in words if re.search(rf\"\\b{word}\\b\", text, re.IGNORECASE)]\n",
    "        support_found[suppport] = bool(found)  # True/False if any word matched\n",
    "        support_matched_words.extend(found)  # Collect matched words\n",
    "\n",
    "    return support_found, \", \".join(set(support_matched_words))  # Return dict & matched words string"
   ]
  },
  {
   "cell_type": "code",
   "execution_count": 9,
   "id": "4dd4b05f-bb87-4113-881b-cdfbe78e3d54",
   "metadata": {},
   "outputs": [],
   "source": [
    "# Function to check if text contains any variation of each skill and return matched words\n",
    "def check_skills(text):\n",
    "    skills_found = {}\n",
    "    skill_matched_words = []\n",
    "    \n",
    "    for skill, words in skills_keywords.items():\n",
    "        found = [word for word in words if re.search(rf\"\\b{word}\\b\", text, re.IGNORECASE)]\n",
    "        skills_found[skill] = bool(found)  # True/False if any word matched\n",
    "        skill_matched_words.extend(found)  # Collect matched words\n",
    "\n",
    "    return skills_found, \", \".join(set(skill_matched_words))  # Return dict & matched words string"
   ]
  },
  {
   "cell_type": "code",
   "execution_count": 10,
   "id": "52bce090-63ef-4c57-b81c-282cdff48ea3",
   "metadata": {},
   "outputs": [],
   "source": [
    "# Function to check if text contains any variation of each emotion and return matched words\n",
    "def check_emotions(text):\n",
    "    emotions_found = {}\n",
    "    emotion_matched_words = []\n",
    "    \n",
    "    for emotion, words in emotion_keywords.items():\n",
    "        found = [word for word in words if re.search(rf\"\\b{word}\\b\", text, re.IGNORECASE)]\n",
    "        emotions_found[emotion] = bool(found)  # True/False if any word matched\n",
    "        emotion_matched_words.extend(found)  # Collect matched words\n",
    "\n",
    "    return emotions_found, \", \".join(set(emotion_matched_words))  # Return dict & matched words string"
   ]
  },
  {
   "cell_type": "code",
   "execution_count": 11,
   "id": "2323329e-e01a-48d6-9dbc-87069657751a",
   "metadata": {},
   "outputs": [],
   "source": [
    "# Function to extract text from a PDF file\n",
    "def extract_text_from_pdf(pdf_path):\n",
    "    with fitz.open(pdf_path) as doc:\n",
    "        text = \"\\n\".join([page.get_text(\"text\") for page in doc])\n",
    "    return text\n",
    "\n",
    "# Function to extract PHP Daily Assessments with only the date\n",
    "def extract_php_assessments(text):\n",
    "    pattern = re.findall(\n",
    "        r\"PHP Daily Assessment (\\d{2}/\\d{2}/\\d{4}) \\d{2}:\\d{2} [APM]{2}\\n(.*?)(?=\\n\\w+ \\w+, ACSW\\d+)\", \n",
    "        text, \n",
    "        re.DOTALL\n",
    "    )\n",
    "    return pattern  # Returns list of tuples (date, text)\n"
   ]
  },
  {
   "cell_type": "code",
   "execution_count": 12,
   "id": "cc72ecec-c345-4b19-b044-2a0c691ad1fd",
   "metadata": {},
   "outputs": [],
   "source": [
    "# Function to process all PDFs in a folder\n",
    "def process_pdfs_in_folder(folder_path):\n",
    "    all_data = []\n",
    "\n",
    "    for filename in os.listdir(folder_path):\n",
    "        if filename.endswith(\".pdf\"):  # Process only PDF files\n",
    "            pdf_path = os.path.join(folder_path, filename)\n",
    "            pdf_text = extract_text_from_pdf(pdf_path)\n",
    "            group_identifier = filename.split('_')[1].replace('.pdf', '')  # Extract patient ID\n",
    "            \n",
    "            # Extract PHP assessments\n",
    "            assessments = extract_php_assessments(pdf_text)\n",
    "\n",
    "            # Append extracted data to the list\n",
    "            for date, text in assessments:\n",
    "                crave_rating = extract_cravings_rating(text) #try to get the crave rating\n",
    "                emotions_found, emotion_matched_words = check_emotions(text)  # Get emotion matches & words\n",
    "                skills_found, skill_matched_words = check_skills(text)  # Get skill matches & words\n",
    "                supports_found, support_matched_words = check_supports(text)  # Get skill matches & words\n",
    "                row_data = [group_identifier, date, \n",
    "                            emotion_matched_words, \n",
    "                            skill_matched_words, \n",
    "                            support_matched_words, \n",
    "                            crave_rating] + list(emotions_found.values()) + list(skills_found.values()) + list(supports_found.values())\n",
    "                all_data.append(row_data)\n",
    "    \n",
    "    # df columns\n",
    "    columns = [\"group_identifier\", \n",
    "               \"assessment_date\",\n",
    "               \"Matched Emotion Words\", \n",
    "               \"Match Skill Words\", \n",
    "               \"Match Support Words\",\n",
    "               \"Craving\"] + list(emotion_keywords.keys()) + list(skills_keywords.keys())+ list(supports_keywords.keys())\n",
    "    df = pd.DataFrame(all_data, columns=columns)\n",
    "    df = pd.DataFrame(all_data, columns=columns)\n",
    "    return df"
   ]
  },
  {
   "cell_type": "code",
   "execution_count": 13,
   "id": "f6f4b7e6-44ca-4a3f-8cef-1f5b1acc8bf0",
   "metadata": {},
   "outputs": [],
   "source": [
    "# Set folder path and process all PDFs\n",
    "df_php_assessments = process_pdfs_in_folder(input_folder)\n",
    "\n"
   ]
  },
  {
   "cell_type": "code",
   "execution_count": 14,
   "id": "2dfc8715-9931-4cb7-ac55-1ff14b9ffa79",
   "metadata": {},
   "outputs": [],
   "source": [
    "# Display extracted data\n",
    "#df_php_assessments\n",
    "\n"
   ]
  },
  {
   "cell_type": "code",
   "execution_count": 15,
   "id": "8d087c35-34ba-4de3-837b-7e989b768c4b",
   "metadata": {},
   "outputs": [],
   "source": [
    "# Save to CSV if needed\n",
    "df_php_assessments.to_csv(\"extracted_php_assessments.csv\", index=False)"
   ]
  }
 ],
 "metadata": {
  "kernelspec": {
   "display_name": "Python 3 (ipykernel)",
   "language": "python",
   "name": "python3"
  },
  "language_info": {
   "codemirror_mode": {
    "name": "ipython",
    "version": 3
   },
   "file_extension": ".py",
   "mimetype": "text/x-python",
   "name": "python",
   "nbconvert_exporter": "python",
   "pygments_lexer": "ipython3",
   "version": "3.10.0"
  }
 },
 "nbformat": 4,
 "nbformat_minor": 5
}
